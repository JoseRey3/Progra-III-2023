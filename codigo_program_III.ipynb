{
  "nbformat": 4,
  "nbformat_minor": 0,
  "metadata": {
    "colab": {
      "provenance": [],
      "authorship_tag": "ABX9TyPgysO1B6qB+R5gZmI5z/Zp",
      "include_colab_link": true
    },
    "kernelspec": {
      "name": "python3",
      "display_name": "Python 3"
    },
    "language_info": {
      "name": "python"
    }
  },
  "cells": [
    {
      "cell_type": "markdown",
      "metadata": {
        "id": "view-in-github",
        "colab_type": "text"
      },
      "source": [
        "<a href=\"https://colab.research.google.com/github/JoseRey3/Progra-III-2023/blob/main/codigo_program_III.ipynb\" target=\"_parent\"><img src=\"https://colab.research.google.com/assets/colab-badge.svg\" alt=\"Open In Colab\"/></a>"
      ]
    },
    {
      "cell_type": "markdown",
      "source": [
        "Introducción a Python\n",
        "\n",
        "Declaración de variables"
      ],
      "metadata": {
        "id": "oqLXYhD8Hml3"
      }
    },
    {
      "cell_type": "code",
      "execution_count": null,
      "metadata": {
        "colab": {
          "base_uri": "https://localhost:8080/"
        },
        "id": "G9bUZKkWGHZn",
        "outputId": "28d2d310-cd56-453c-f6fc-1a9b1abf557e"
      },
      "outputs": [
        {
          "output_type": "stream",
          "name": "stdout",
          "text": [
            "Hola Mundo\n"
          ]
        }
      ],
      "source": [
        "saludo = \"Hola Mundo\"\n",
        "print(saludo)"
      ]
    },
    {
      "cell_type": "code",
      "source": [
        "num1 = 5\n",
        "num2 = 7.5\n",
        "resp = num1 + num2\n",
        "print(\"La suma de\", num1, \"+\", num2, \"=\", resp)\n",
        "print(resp)"
      ],
      "metadata": {
        "colab": {
          "base_uri": "https://localhost:8080/"
        },
        "id": "7yTtqvf9IypE",
        "outputId": "d57f839c-4274-4246-fb7f-b0c429a0c7d8"
      },
      "execution_count": null,
      "outputs": [
        {
          "output_type": "stream",
          "name": "stdout",
          "text": [
            "La suma de 5 + 7.5 = 12.5\n",
            "12.5\n"
          ]
        }
      ]
    },
    {
      "cell_type": "code",
      "source": [
        "name = \"Elias Reyes\"\n",
        "edad = 19\n",
        "saludo = \"Hola \"+ name + \", tu edad: \"+ str(edad)\n",
        "print(saludo)"
      ],
      "metadata": {
        "colab": {
          "base_uri": "https://localhost:8080/"
        },
        "id": "EJ8Uyq0CKItC",
        "outputId": "c90d0360-12c9-43b2-c7f3-f1fdcb382d69"
      },
      "execution_count": null,
      "outputs": [
        {
          "output_type": "stream",
          "name": "stdout",
          "text": [
            "Hola Elias Reyes, tu edad: 19\n"
          ]
        }
      ]
    },
    {
      "cell_type": "code",
      "source": [
        "nombre = input(\"Dime tu nombre: \")\n",
        "edad = input(\"Tu edad: \")\n",
        "saludo = \"Hola que tal \"+ nombre + \", tu edad: \"+ edad\n",
        "print(saludo)"
      ],
      "metadata": {
        "id": "2nOqgmcALLsK",
        "colab": {
          "base_uri": "https://localhost:8080/"
        },
        "outputId": "bd172ccd-328e-454c-cb75-ce0fa7158a00"
      },
      "execution_count": null,
      "outputs": [
        {
          "output_type": "stream",
          "name": "stdout",
          "text": [
            "Dime tu nombre: elias \n",
            "Tu edad: 20\n",
            "Hola que tal elias , tu edad: 20\n"
          ]
        }
      ]
    },
    {
      "cell_type": "code",
      "source": [
        "num1 = float(input(\"Digite el primer numero: \"))\n",
        "num2 = float(input(\"Digite el segundo numero: \"))\n",
        "suma= num1 + num2\n",
        "print(\"La suma es: \", suma)"
      ],
      "metadata": {
        "id": "1IhxCfthP8Ku",
        "colab": {
          "base_uri": "https://localhost:8080/"
        },
        "outputId": "0b2b4e4b-25b0-47eb-fed9-3458f112258c"
      },
      "execution_count": null,
      "outputs": [
        {
          "output_type": "stream",
          "name": "stdout",
          "text": [
            "Digite el primer numero: 2\n",
            "Digite el segundo numero: 3\n",
            "La suma es:  5.0\n"
          ]
        }
      ]
    },
    {
      "cell_type": "code",
      "source": [
        "num1 = float(input(\"Digite el primer numero: \"))\n",
        "num2 = float(input(\"Digite el segundo numero: \"))\n",
        "resta= num1 - num2\n",
        "print(\"La resta es: \", resta)"
      ],
      "metadata": {
        "id": "drGT7Ph0MaBd",
        "colab": {
          "base_uri": "https://localhost:8080/"
        },
        "outputId": "06794581-6192-4cfb-f6ed-493ed87bdbfa"
      },
      "execution_count": null,
      "outputs": [
        {
          "output_type": "stream",
          "name": "stdout",
          "text": [
            "Digite el primer numero: 3\n",
            "Digite el segundo numero: 2\n",
            "La resta es:  1.0\n"
          ]
        }
      ]
    },
    {
      "cell_type": "code",
      "source": [
        "num1 = float(input(\"Digite el primer numero: \"))\n",
        "num2 = float(input(\"Digite el segundo numero: \"))\n",
        "mult= num1 * num2\n",
        "print(\"La multiplicación es: \", mult)"
      ],
      "metadata": {
        "id": "LaNdtiLuQD9F",
        "colab": {
          "base_uri": "https://localhost:8080/"
        },
        "outputId": "e9ecf06a-4cba-4fe6-ef7b-1004f50fa4c8"
      },
      "execution_count": null,
      "outputs": [
        {
          "output_type": "stream",
          "name": "stdout",
          "text": [
            "Digite el primer numero: 3\n",
            "Digite el segundo numero: 5\n",
            "La multiplicación es:  15.0\n"
          ]
        }
      ]
    },
    {
      "cell_type": "code",
      "source": [
        "num1 = float(input(\"Digite el primer numero: \"))\n",
        "num2 = float(input(\"Digite el segundo numero: \"))\n",
        "div= num1 / num2\n",
        "print(\"La división es: \", div)"
      ],
      "metadata": {
        "id": "ZTqxIr4XQMXd",
        "colab": {
          "base_uri": "https://localhost:8080/"
        },
        "outputId": "23be7e4a-514a-40a1-e5b1-e9847c7910ea"
      },
      "execution_count": null,
      "outputs": [
        {
          "output_type": "stream",
          "name": "stdout",
          "text": [
            "Digite el primer numero: 12\n",
            "Digite el segundo numero: 3\n",
            "La división es:  4.0\n"
          ]
        }
      ]
    },
    {
      "cell_type": "markdown",
      "source": [
        "**TIPOS DE DATOS**"
      ],
      "metadata": {
        "id": "_9elJwV3Mofd"
      }
    },
    {
      "cell_type": "code",
      "source": [
        "num1 = 5 #variable de tipo entero.\n",
        "num2 = 4.9 #variable de tipo double, real, decimal.\n",
        "print(\"Los valores: Num 1: \", num1, \" Num 2: \", num2)\n",
        "\n",
        "#num1 = 4.9\n",
        "print(\"Valor: Num 1: \", num1)"
      ],
      "metadata": {
        "colab": {
          "base_uri": "https://localhost:8080/"
        },
        "id": "WVvsX-T8M2gF",
        "outputId": "722094d6-506b-4cc8-acb3-00b5d8c74eb8"
      },
      "execution_count": null,
      "outputs": [
        {
          "output_type": "stream",
          "name": "stdout",
          "text": [
            "Los valores: Num 1:  5  Num 2:  4.9\n",
            "Valor: Num 1:  5\n"
          ]
        }
      ]
    },
    {
      "cell_type": "code",
      "source": [
        "varLogica = False\n",
        "\n",
        "print(\"Variable Booleana: \", varLogica)"
      ],
      "metadata": {
        "colab": {
          "base_uri": "https://localhost:8080/"
        },
        "id": "HmBx6791M7Vu",
        "outputId": "a7b89f8e-ca77-48da-96a3-a914669d606e"
      },
      "execution_count": null,
      "outputs": [
        {
          "output_type": "stream",
          "name": "stdout",
          "text": [
            "Variable Booleana:  False\n"
          ]
        }
      ]
    },
    {
      "cell_type": "code",
      "source": [
        "nombre = \"Elias Reyes\"\n",
        "print(\"Mi Nombre: \", nombre, \"Iniciales: \", nombre[0], nombre[5], \"Longitud: \", len(nombre) )\n",
        "print(\"Primer Nombre: \", nombre[0:5])\n",
        "print(\"Primer Nombre: \", nombre[:5])\n",
        "print(\"Apellido: \", nombre[5:len(nombre)])\n",
        "print(\"Apellid: \", nombre[5:])\n",
        "print(\"Apellido: \", nombre[-9:])"
      ],
      "metadata": {
        "colab": {
          "base_uri": "https://localhost:8080/"
        },
        "id": "DIbp2gvSM9eh",
        "outputId": "9dba8a78-f68c-41c7-a568-431eba2d188f"
      },
      "execution_count": null,
      "outputs": [
        {
          "output_type": "stream",
          "name": "stdout",
          "text": [
            "Mi Nombre:  Elias Reyes Iniciales:  E   Longitud:  11\n",
            "Primer Nombre:  Elias\n",
            "Primer Nombre:  Elias\n",
            "Apellido:   Reyes\n",
            "Apellid:   Reyes\n",
            "Apellido:  ias Reyes\n"
          ]
        }
      ]
    },
    {
      "cell_type": "code",
      "source": [
        "print(type(num1))\n",
        "print(type(num2))\n",
        "print(type(varLogica))\n",
        "print(type(nombre))"
      ],
      "metadata": {
        "colab": {
          "base_uri": "https://localhost:8080/"
        },
        "id": "xTGkaU87NDmE",
        "outputId": "1f2b6a20-871f-41cf-e4b8-2ffe9f136cd6"
      },
      "execution_count": null,
      "outputs": [
        {
          "output_type": "stream",
          "name": "stdout",
          "text": [
            "<class 'int'>\n",
            "<class 'float'>\n",
            "<class 'bool'>\n",
            "<class 'str'>\n"
          ]
        }
      ]
    },
    {
      "cell_type": "code",
      "source": [
        "num1 = float(input(\"Num 1: \"))\n",
        "num2 = float(input(\"Num 2: \"))\n",
        "resp = num1 + num2\n",
        "print(\"La suma es: \", resp)"
      ],
      "metadata": {
        "colab": {
          "base_uri": "https://localhost:8080/"
        },
        "id": "M9wAzy4jNHiH",
        "outputId": "559f7122-03b5-497e-96f1-576a2b7a6faf"
      },
      "execution_count": null,
      "outputs": [
        {
          "output_type": "stream",
          "name": "stdout",
          "text": [
            "Num 1: 12\n",
            "Num 2: 13\n",
            "La suma es:  25.0\n"
          ]
        }
      ]
    },
    {
      "cell_type": "code",
      "source": [
        "def suma(num1, num2):\n",
        "  return num1 + num2"
      ],
      "metadata": {
        "id": "arJO0e3pNLBj"
      },
      "execution_count": null,
      "outputs": []
    },
    {
      "cell_type": "code",
      "source": [
        "num1 = float(input(\"Num 1: \"))\n",
        "num2 = float(input(\"N4.26um 2: \"))\n",
        "resp = suma(num1, num2)\n",
        "print(resp)"
      ],
      "metadata": {
        "colab": {
          "base_uri": "https://localhost:8080/"
        },
        "id": "IAjoziaUNNKQ",
        "outputId": "31a40e2b-a987-463c-85cb-57b75219fd47"
      },
      "execution_count": null,
      "outputs": [
        {
          "output_type": "stream",
          "name": "stdout",
          "text": [
            "Num 1: 20\n",
            "N4.26um 2: 12\n",
            "32.0\n"
          ]
        }
      ]
    },
    {
      "cell_type": "markdown",
      "source": [
        "**FUNCIONES DE USUARIO**\n",
        "\n",
        "* Convertir grados celsius a farenheit."
      ],
      "metadata": {
        "id": "LLs6INarAasF"
      }
    },
    {
      "cell_type": "code",
      "source": [
        "def convertir_cf(c):\n",
        "  return c*9/5 + 32"
      ],
      "metadata": {
        "id": "v3WlVGVRBxIe"
      },
      "execution_count": null,
      "outputs": []
    },
    {
      "cell_type": "code",
      "source": [
        "c = float(input(\"Celsius: \"))\n",
        "print(\"Farenheit: \", convertir_cf(c))"
      ],
      "metadata": {
        "colab": {
          "base_uri": "https://localhost:8080/"
        },
        "id": "Mj33QoxmAa9d",
        "outputId": "8c2b5cd8-7ac3-4871-ef88-0f61125f39a2"
      },
      "execution_count": null,
      "outputs": [
        {
          "output_type": "stream",
          "name": "stdout",
          "text": [
            "Celsius: 23\n",
            "Farenheit:  73.4\n"
          ]
        }
      ]
    },
    {
      "cell_type": "markdown",
      "source": [
        "* Convertir grados farenheit a celsius.\n",
        "\n"
      ],
      "metadata": {
        "id": "_LAJU7rIE4VN"
      }
    },
    {
      "cell_type": "code",
      "source": [
        "def convertir_fc(f):\n",
        "  return (f-32) * 5/9"
      ],
      "metadata": {
        "id": "U-Z3IjfTE_4S"
      },
      "execution_count": null,
      "outputs": []
    },
    {
      "cell_type": "code",
      "source": [
        "f = float(input(\"Farenheit: \"))\n",
        "print(\"Celsius: \", convertir_fc(f))"
      ],
      "metadata": {
        "colab": {
          "base_uri": "https://localhost:8080/"
        },
        "id": "qpa7rzPQFDoC",
        "outputId": "b0e642d2-4bdb-4c13-913e-8b9187bb1707"
      },
      "execution_count": null,
      "outputs": [
        {
          "output_type": "stream",
          "name": "stdout",
          "text": [
            "Farenheit: 107.6\n",
            "Celsius:  42.0\n"
          ]
        }
      ]
    },
    {
      "cell_type": "markdown",
      "source": [
        "* Convertir grados celsius a kelvin."
      ],
      "metadata": {
        "id": "Uqw9Ox19GFbm"
      }
    },
    {
      "cell_type": "code",
      "source": [
        "def convertir_ck(c):\n",
        "  return c + 273.15"
      ],
      "metadata": {
        "id": "YdQ8p4q8GHxg"
      },
      "execution_count": null,
      "outputs": []
    },
    {
      "cell_type": "code",
      "source": [
        "c = float(input(\"Celsius: \"))\n",
        "print(\"Kelvin: \", convertir_ck(c))"
      ],
      "metadata": {
        "colab": {
          "base_uri": "https://localhost:8080/"
        },
        "id": "pXTCzxqbGH_-",
        "outputId": "ad2db226-f153-487a-bf59-82c031354eac"
      },
      "execution_count": null,
      "outputs": [
        {
          "output_type": "stream",
          "name": "stdout",
          "text": [
            "Celsius: 40\n",
            "Kelvin:  313.15\n"
          ]
        }
      ]
    },
    {
      "cell_type": "markdown",
      "source": [
        "* Convertir grados farenheit a kelvin."
      ],
      "metadata": {
        "id": "V8l5UBvMHbcn"
      }
    },
    {
      "cell_type": "code",
      "source": [
        "def convertir_fk(f):\n",
        "  return (f - 32) * 5/9 + 273.15"
      ],
      "metadata": {
        "id": "k5P9sXiRHcGF"
      },
      "execution_count": null,
      "outputs": []
    },
    {
      "cell_type": "code",
      "source": [
        "f = float(input(\"Farenheit: \"))\n",
        "print(\"Kelvin: \", convertir_fk(f))"
      ],
      "metadata": {
        "colab": {
          "base_uri": "https://localhost:8080/"
        },
        "id": "M8atxN1NHfIt",
        "outputId": "82ebfd31-cea3-4816-e8b7-1eac70a9ce8c"
      },
      "execution_count": null,
      "outputs": [
        {
          "output_type": "stream",
          "name": "stdout",
          "text": [
            "Farenheit: 100\n",
            "Kelvin:  310.92777777777775\n"
          ]
        }
      ]
    },
    {
      "cell_type": "markdown",
      "source": [
        "* Convertir grados kelvin a celsius."
      ],
      "metadata": {
        "id": "iabPe8MxGnr-"
      }
    },
    {
      "cell_type": "code",
      "source": [
        "def convertir_kc(k):\n",
        "  return k - 273.15"
      ],
      "metadata": {
        "id": "BSMKGux-Gpve"
      },
      "execution_count": null,
      "outputs": []
    },
    {
      "cell_type": "code",
      "source": [
        "k = float(input(\"Kelvin: \"))\n",
        "print(\"Celsius: \", convertir_kc(k))"
      ],
      "metadata": {
        "colab": {
          "base_uri": "https://localhost:8080/"
        },
        "id": "kZSbYnv9Gp-O",
        "outputId": "432f146a-88f1-4020-bf7d-7c1a0156f476"
      },
      "execution_count": null,
      "outputs": [
        {
          "output_type": "stream",
          "name": "stdout",
          "text": [
            "Kelvin: 30\n",
            "Celsius:  -243.14999999999998\n"
          ]
        }
      ]
    },
    {
      "cell_type": "markdown",
      "source": [
        "* Convertir grados kelvin a farenheit."
      ],
      "metadata": {
        "id": "jyQsSRD5IHL-"
      }
    },
    {
      "cell_type": "code",
      "source": [
        "def convertir_kf(k):\n",
        "  return (k - 273.15) * 9/5 + 32"
      ],
      "metadata": {
        "id": "FbGKCu9tIJmf"
      },
      "execution_count": null,
      "outputs": []
    },
    {
      "cell_type": "code",
      "source": [
        "k = float(input(\"Kelvin: \"))\n",
        "print(\"Farenheit: \", convertir_kf(k))"
      ],
      "metadata": {
        "colab": {
          "base_uri": "https://localhost:8080/"
        },
        "id": "KbIJspaHIJz_",
        "outputId": "72cd04d4-5d44-4ac9-c52c-84352dd8a169"
      },
      "execution_count": null,
      "outputs": [
        {
          "output_type": "stream",
          "name": "stdout",
          "text": [
            "Kelvin: 310.97\n",
            "Farenheit:  100.07600000000009\n"
          ]
        }
      ]
    },
    {
      "cell_type": "markdown",
      "source": [
        "* CALCULAR EL SUELDO MENSUAL"
      ],
      "metadata": {
        "id": "n-SOa42BJJVo"
      }
    },
    {
      "cell_type": "code",
      "source": [
        "def sueldo(numHrs, valorXhr):\n",
        "  sueldo = numHrs*valorXhr*30\n",
        "  if(numHrs>8):\n",
        "    sueldo += (numHrs-8)*valorXhr*2*30\n",
        "  #isss + afp = 3 + 6.25 = 9.25 = 100 - 9.25 = 90.75/100 = 0.09075\n",
        "  #sueldo = sueldo*0.9075\n",
        "  return sueldo"
      ],
      "metadata": {
        "id": "w3bftYdaKM0Y"
      },
      "execution_count": null,
      "outputs": []
    },
    {
      "cell_type": "code",
      "source": [
        "tabla_isr = [\n",
        "    [0.01, 472, 0, 0],\n",
        "    [472.01, 895.24, 0.1, 17.67],\n",
        "    [895.25, 2038.1, 0.2, 60.00],\n",
        "    [2038.11, 9999999, 0.3, 288.57]\n",
        "]"
      ],
      "metadata": {
        "id": "144AsjRMVMht"
      },
      "execution_count": null,
      "outputs": []
    },
    {
      "cell_type": "code",
      "source": [
        "def calcularIsr(sueldo, sueldoNeto):\n",
        "  impSr = 0\n",
        "  for tramo in tabla_isr:\n",
        "    if sueldo>tramo[0] and sueldo<=tramo[1]:\n",
        "      impSr = (sueldoNeto-tramo[0])*tramo[2] +tramo [3]\n",
        "  return impSr"
      ],
      "metadata": {
        "id": "eg6gzZaKXVcA"
      },
      "execution_count": null,
      "outputs": []
    },
    {
      "cell_type": "code",
      "source": [
        "valorXhr = 4\n",
        "#isss = 3%\n",
        "#afp = 6.25%\n",
        "numHrs = float(input(\"Horas trabajadas: \"))\n",
        "s = sueldo(numHrs, valorXhr)\n",
        "isr = calcularIsr(s, s*0.9075)\n",
        "print(\"Sueldo: \", s, \"ISR: \", isr, s*0.9075-isr)"
      ],
      "metadata": {
        "colab": {
          "base_uri": "https://localhost:8080/"
        },
        "id": "PuPSjiwqKtip",
        "outputId": "39977877-471f-4205-af9e-6ecf5f76af6e"
      },
      "execution_count": null,
      "outputs": [
        {
          "output_type": "stream",
          "name": "stdout",
          "text": [
            "Horas trabajadas: 8\n",
            "Sueldo:  960.0 ISR:  55.18999999999998 816.01\n"
          ]
        }
      ]
    },
    {
      "cell_type": "markdown",
      "source": [
        "FUNCIONES LAMBDA\n",
        "\n",
        "* FUNCIONES PRECONTRUIDAS MAP, FILTER, FIND, REDUCE, ETC."
      ],
      "metadata": {
        "id": "-38Mvtg-79ZY"
      }
    },
    {
      "cell_type": "code",
      "source": [
        "def elevarCuadrado(num):\n",
        "  return num**2"
      ],
      "metadata": {
        "id": "wP2yoFQgNtMZ"
      },
      "execution_count": null,
      "outputs": []
    },
    {
      "cell_type": "code",
      "source": [
        "data = [1,2,3,4,5]"
      ],
      "metadata": {
        "id": "-uZdt4YxNwjQ"
      },
      "execution_count": null,
      "outputs": []
    },
    {
      "cell_type": "code",
      "source": [
        "resp = map(elevarCuadrado, data)\n",
        "print(list(resp))"
      ],
      "metadata": {
        "colab": {
          "base_uri": "https://localhost:8080/"
        },
        "id": "iG7w3F-xNyQB",
        "outputId": "421bee12-da57-41a3-d917-44cd9448dbc7"
      },
      "execution_count": null,
      "outputs": [
        {
          "output_type": "stream",
          "name": "stdout",
          "text": [
            "[1, 4, 9, 16, 25]\n"
          ]
        }
      ]
    },
    {
      "cell_type": "code",
      "source": [
        "resp = map(lambda n:n**2, data)\n",
        "print(list(resp))"
      ],
      "metadata": {
        "colab": {
          "base_uri": "https://localhost:8080/"
        },
        "id": "jNbQB8hrN0mT",
        "outputId": "1a4544b0-3930-4f9b-b394-5cfd45585718"
      },
      "execution_count": null,
      "outputs": [
        {
          "output_type": "stream",
          "name": "stdout",
          "text": [
            "[1, 4, 9, 16, 25]\n"
          ]
        }
      ]
    },
    {
      "cell_type": "code",
      "source": [
        "resp = filter(lambda n:n>2, data)\n",
        "print( list(resp) )"
      ],
      "metadata": {
        "colab": {
          "base_uri": "https://localhost:8080/"
        },
        "id": "tdJaSUWMN23y",
        "outputId": "1efc86ef-5910-4cb2-8561-fd6bc6563ac0"
      },
      "execution_count": null,
      "outputs": [
        {
          "output_type": "stream",
          "name": "stdout",
          "text": [
            "[3, 4, 5]\n"
          ]
        }
      ]
    },
    {
      "cell_type": "code",
      "source": [
        "import functools\n",
        "\n",
        "resp = functools.reduce(lambda a,n:a+n, data)\n",
        "print(resp)"
      ],
      "metadata": {
        "id": "OoLyhxbpN48f",
        "colab": {
          "base_uri": "https://localhost:8080/"
        },
        "outputId": "c03f109e-bc44-460c-caf1-2c778be8f341"
      },
      "execution_count": null,
      "outputs": [
        {
          "output_type": "stream",
          "name": "stdout",
          "text": [
            "15\n"
          ]
        }
      ]
    },
    {
      "cell_type": "markdown",
      "source": [
        "TUPLAS"
      ],
      "metadata": {
        "id": "_KwL6hK38RUj"
      }
    },
    {
      "cell_type": "code",
      "source": [
        "semana = (\"domingo\", \"lunes\", \"martes\", \"miercoles\", \"jueves\", \"viernes\", \"sabado\")\n",
        "#semana[0] = \"otro\"\n",
        "print( semana.count(\"domingo\") ) #count cuenta el numero de veces que aparece un elemento en la tupla\n",
        "print( len(semana) )"
      ],
      "metadata": {
        "colab": {
          "base_uri": "https://localhost:8080/"
        },
        "id": "TZJNgG0y8PyA",
        "outputId": "0ad9f011-305c-476d-f8da-2020b1b461f4"
      },
      "execution_count": null,
      "outputs": [
        {
          "output_type": "stream",
          "name": "stdout",
          "text": [
            "1\n",
            "7\n"
          ]
        }
      ]
    },
    {
      "cell_type": "markdown",
      "source": [
        "**LISTAS => Array**"
      ],
      "metadata": {
        "id": "WwdA4wx78oEQ"
      }
    },
    {
      "cell_type": "code",
      "source": [
        "meses = [\"ene\", \"feb\", \"mar\", \"abr\", \"may\", \"jun\", \"jul\", \"ago\", \"sep\", \"oct\", \"nov\", \"dic\"]\n",
        "print( meses[-2:] ) #ultimos dos meses del año\n",
        "print( meses[:2] ) #primero dos meses del año\n",
        "\n",
        "meses[0] = \"enero\"\n",
        "\n",
        "print( meses )"
      ],
      "metadata": {
        "colab": {
          "base_uri": "https://localhost:8080/"
        },
        "id": "fu3EPSfTOK2g",
        "outputId": "ba79285e-a3cf-47b6-b0aa-7db7b88183d0"
      },
      "execution_count": null,
      "outputs": [
        {
          "output_type": "stream",
          "name": "stdout",
          "text": [
            "['nov', 'dic']\n",
            "['ene', 'feb']\n",
            "['enero', 'feb', 'mar', 'abr', 'may', 'jun', 'jul', 'ago', 'sep', 'oct', 'nov', 'dic']\n"
          ]
        }
      ]
    },
    {
      "cell_type": "code",
      "source": [
        "materias = [ [\"Progra I\", [5,6,8], [8,7,9], [9,10,9] ], [\"Progra II\"] ]\n",
        "print( materias[1][0] )"
      ],
      "metadata": {
        "colab": {
          "base_uri": "https://localhost:8080/"
        },
        "id": "3Xi4Z30zONNx",
        "outputId": "4eec9952-ecca-4b56-f68b-4203a700a572"
      },
      "execution_count": null,
      "outputs": [
        {
          "output_type": "stream",
          "name": "stdout",
          "text": [
            "Progra II\n"
          ]
        }
      ]
    },
    {
      "cell_type": "markdown",
      "source": [
        "DICCIONARIOS => JSON"
      ],
      "metadata": {
        "id": "whT1YsC9844D"
      }
    },
    {
      "cell_type": "code",
      "source": [
        "materias = {\n",
        "    \"Progra I\": {\n",
        "        \"c1\": {\n",
        "          \"lab1\" : 5,\n",
        "          \"lab2\" : 6,\n",
        "          \"parcial\" : 8\n",
        "      },\n",
        "      \"c2\": {\n",
        "          \"lab1\" : 8,\n",
        "          \"lab2\" : 7,\n",
        "          \"parcial\" : 9\n",
        "      },\n",
        "      \"c3\": {\n",
        "          \"lab1\" : 9,\n",
        "          \"lab2\" : 10,\n",
        "          \"parcial\" : 9\n",
        "      }\n",
        "    },\n",
        "    \"Progra II\" :{\n",
        "\n",
        "    }\n",
        "}\n",
        "print( materias[\"Progra I\"][\"c1\"][\"lab1\"] )"
      ],
      "metadata": {
        "colab": {
          "base_uri": "https://localhost:8080/"
        },
        "id": "7mPBuYt7838N",
        "outputId": "743d2874-65de-4462-c92b-f17fde2a1f41"
      },
      "execution_count": null,
      "outputs": [
        {
          "output_type": "stream",
          "name": "stdout",
          "text": [
            "5\n"
          ]
        }
      ]
    },
    {
      "cell_type": "markdown",
      "source": [
        "LISTAS"
      ],
      "metadata": {
        "id": "yYeZlDA09KPB"
      }
    },
    {
      "cell_type": "code",
      "source": [
        "data = [2,5,6,8,9]"
      ],
      "metadata": {
        "id": "RV-UmXmpFs6W"
      },
      "execution_count": null,
      "outputs": []
    },
    {
      "cell_type": "code",
      "source": [
        "resp = map(lambda n:n**3, data)\n",
        "print(list(resp))"
      ],
      "metadata": {
        "colab": {
          "base_uri": "https://localhost:8080/"
        },
        "id": "puhPV4JGHYNc",
        "outputId": "a7ea61d2-ef50-4db0-fdd6-de86f2bc24d3"
      },
      "execution_count": null,
      "outputs": [
        {
          "output_type": "stream",
          "name": "stdout",
          "text": [
            "[8, 125, 216, 512, 729]\n"
          ]
        }
      ]
    },
    {
      "cell_type": "code",
      "source": [
        "fahrenheit = map(lambda c: c * 9/5 + 32, data)\n",
        "print(list(fahrenheit))"
      ],
      "metadata": {
        "colab": {
          "base_uri": "https://localhost:8080/"
        },
        "id": "vLO-qDwqIVG3",
        "outputId": "b9cfcc97-b41c-44c3-c2b8-fe4b00927b06"
      },
      "execution_count": null,
      "outputs": [
        {
          "output_type": "stream",
          "name": "stdout",
          "text": [
            "[35.6, 41.0, 42.8, 46.4, 48.2]\n"
          ]
        }
      ]
    },
    {
      "cell_type": "code",
      "source": [
        "par = filter(lambda x: x%2 == 0, data)\n",
        "print(list(par))"
      ],
      "metadata": {
        "colab": {
          "base_uri": "https://localhost:8080/"
        },
        "id": "FI-RzNjJLBdh",
        "outputId": "34abb271-da82-467b-bed3-d50560cb5095"
      },
      "execution_count": null,
      "outputs": [
        {
          "output_type": "stream",
          "name": "stdout",
          "text": [
            "[2, 6, 8]\n"
          ]
        }
      ]
    },
    {
      "cell_type": "code",
      "source": [
        "impar = filter(lambda x: x%2 != 0, data)\n",
        "print(list(impar))"
      ],
      "metadata": {
        "colab": {
          "base_uri": "https://localhost:8080/"
        },
        "id": "CEIbrmi_MLv_",
        "outputId": "6583fa4a-9dc6-4af3-fb23-35492bccb245"
      },
      "execution_count": null,
      "outputs": [
        {
          "output_type": "stream",
          "name": "stdout",
          "text": [
            "[5, 9]\n"
          ]
        }
      ]
    },
    {
      "cell_type": "markdown",
      "source": [
        "CICLOS\n",
        "\n",
        "* FOR"
      ],
      "metadata": {
        "id": "h8ITdook9dw3"
      }
    },
    {
      "cell_type": "code",
      "source": [
        "for item in data:\n",
        "  print(item)"
      ],
      "metadata": {
        "id": "2rbnrh6yOdF1",
        "colab": {
          "base_uri": "https://localhost:8080/"
        },
        "outputId": "64996a1d-fab2-462d-b268-5661bac64c89"
      },
      "execution_count": null,
      "outputs": [
        {
          "output_type": "stream",
          "name": "stdout",
          "text": [
            "2\n",
            "5\n",
            "6\n",
            "8\n",
            "9\n"
          ]
        }
      ]
    },
    {
      "cell_type": "markdown",
      "source": [
        "* **WHILE**"
      ],
      "metadata": {
        "id": "RSMsVazqPAzx"
      }
    },
    {
      "cell_type": "code",
      "source": [
        "i=0\n",
        "n = len(data)\n",
        "while i<n:\n",
        "  print( data[i] )\n",
        "  i+=1"
      ],
      "metadata": {
        "id": "Os5VejaEO_OB",
        "colab": {
          "base_uri": "https://localhost:8080/"
        },
        "outputId": "8b5459d4-c8f8-4fa2-ca3e-63ccec17397c"
      },
      "execution_count": null,
      "outputs": [
        {
          "output_type": "stream",
          "name": "stdout",
          "text": [
            "2\n",
            "5\n",
            "6\n",
            "8\n",
            "9\n"
          ]
        }
      ]
    },
    {
      "cell_type": "markdown",
      "source": [
        "**TABLA DE MULTIPLICAR**"
      ],
      "metadata": {
        "id": "fzcwn6DsTcQw"
      }
    },
    {
      "cell_type": "code",
      "source": [
        "num = int(input(\"Numero: \"))\n",
        "for item in range(1, 11):\n",
        "  print(num, 'x', item, '=', num*item)"
      ],
      "metadata": {
        "id": "A1wW1N9wTjrQ",
        "colab": {
          "base_uri": "https://localhost:8080/"
        },
        "outputId": "7c0946a2-baa9-418f-a477-c393f9d85c76"
      },
      "execution_count": null,
      "outputs": [
        {
          "output_type": "stream",
          "name": "stdout",
          "text": [
            "Numero: 5\n",
            "5 x 1 = 5\n",
            "5 x 2 = 10\n",
            "5 x 3 = 15\n",
            "5 x 4 = 20\n",
            "5 x 5 = 25\n",
            "5 x 6 = 30\n",
            "5 x 7 = 35\n",
            "5 x 8 = 40\n",
            "5 x 9 = 45\n",
            "5 x 10 = 50\n"
          ]
        }
      ]
    },
    {
      "cell_type": "code",
      "source": [
        "num = int(input(\"Numero: \"))\n",
        "count = 1\n",
        "\n",
        "while count <= 10:\n",
        "  num = num * 1\n",
        "  print(num, 'x', count, '=', num * count)\n",
        "  count += 1"
      ],
      "metadata": {
        "id": "CXT651GTSZiC",
        "colab": {
          "base_uri": "https://localhost:8080/"
        },
        "outputId": "2a6fa713-d916-43aa-fbc7-f2717aadcc68"
      },
      "execution_count": null,
      "outputs": [
        {
          "output_type": "stream",
          "name": "stdout",
          "text": [
            "Numero: 2\n",
            "2 x 1 = 2\n",
            "2 x 2 = 4\n",
            "2 x 3 = 6\n",
            "2 x 4 = 8\n",
            "2 x 5 = 10\n",
            "2 x 6 = 12\n",
            "2 x 7 = 14\n",
            "2 x 8 = 16\n",
            "2 x 9 = 18\n",
            "2 x 10 = 20\n"
          ]
        }
      ]
    },
    {
      "cell_type": "code",
      "source": [
        "def calcular_deducciones(sueldo):\n",
        "    # Deducción ISSS\n",
        "    deduccion_isss = sueldo * 0.03\n",
        "\n",
        "    # Deducción AFP\n",
        "    deduccion_afp = sueldo * 0.0625\n",
        "\n",
        "    # Deducción ISR\n",
        "    deduccion_isr = 0\n",
        "    tabla_isr = [\n",
        "        [0.01, 472, 0, 0],\n",
        "        [472.01, 895.24, 0.1, 17.67],\n",
        "        [895.25, 2038.1, 0.2, 60.00],\n",
        "        [2038.11, 9999999, 0.3, 288.57]\n",
        "    ]\n",
        "\n",
        "    for rango in tabla_isr:\n",
        "        if sueldo >= rango[0] and sueldo <= rango[1]:\n",
        "            deduccion_isr = (sueldo - rango[0] + 1) * rango[2] + rango[3]\n",
        "            break\n",
        "\n",
        "    # Suma de deducciones\n",
        "    total_deducciones = deduccion_isss + deduccion_afp + deduccion_isr\n",
        "\n",
        "    # Calculo de sueldo neto\n",
        "    sueldo_neto = sueldo - total_deducciones\n",
        "\n",
        "    return total_deducciones, sueldo_neto\n",
        "\n",
        "# Obtener el sueldo del usuario\n",
        "sueldo = float(input(\"Ingrese el sueldo: \"))\n",
        "\n",
        "total_deducciones, sueldo_neto = calcular_deducciones(sueldo)\n",
        "\n",
        "# Imprimir resultados\n",
        "print(f\"Total deducciones: ${total_deducciones:.2f}\")\n",
        "print(f\"Sueldo neto: ${sueldo_neto:.2f}\")\n"
      ],
      "metadata": {
        "id": "zUlllE19Z-Fr",
        "colab": {
          "base_uri": "https://localhost:8080/"
        },
        "outputId": "81f0000a-8163-4e03-f96c-88b73f99139f"
      },
      "execution_count": null,
      "outputs": [
        {
          "output_type": "stream",
          "name": "stdout",
          "text": [
            "Ingrese el sueldo: 472.01\n",
            "Total deducciones: $61.43\n",
            "Sueldo neto: $410.58\n"
          ]
        }
      ]
    },
    {
      "cell_type": "code",
      "source": [
        "def sueldo(numHrs, valorXhr):\n",
        "    sueldo_base = numHrs * valorXhr * 30\n",
        "    if numHrs > 8:\n",
        "        horas_extras = numHrs - 8\n",
        "        sueldo_base += horas_extras * valorXhr * 2 * 30\n",
        "    return sueldo_base\n",
        "\n",
        "tabla_isr = [\n",
        "    [0.01, 472, 0, 0],\n",
        "    [472.01, 895.24, 0.1, 17.67],\n",
        "    [895.25, 2038.1, 0.2, 60.00],\n",
        "    [2038.11, 9999999, 0.3, 288.57]\n",
        "]\n",
        "\n",
        "def calcularIsr(sueldo):\n",
        "    impSr = 0\n",
        "    for tramo in tabla_isr:\n",
        "        if sueldo >= tramo[0] and sueldo <= tramo[1]:\n",
        "            impSr = (sueldo - tramo[0]) * tramo[2] + tramo[3]\n",
        "            return impSr\n",
        "    return impSr\n",
        "\n",
        "valorXhr = 1.45\n",
        "numHrs = float(input(\"Horas trabajadas: \"))\n",
        "\n",
        "sueldo_bruto = sueldo(numHrs, valorXhr)\n",
        "isss = sueldo_bruto * 0.03\n",
        "afp = sueldo_bruto * 0.0625\n",
        "sueldo_neto = sueldo_bruto - isss - afp\n",
        "impSr = calcularIsr(sueldo_bruto)\n",
        "sueldo_neto -= impSr\n",
        "\n",
        "print(\"Sueldo Bruto:\", sueldo_bruto)\n",
        "print(\"ISSS:\", isss)\n",
        "print(\"AFP:\", afp)\n",
        "print(\"ISR:\", impSr)\n",
        "print(\"Total Deducciones:\", isss + afp + impSr)\n",
        "print(\"Sueldo Neto:\", sueldo_neto)\n"
      ],
      "metadata": {
        "id": "2c1xmh6gaqcC",
        "colab": {
          "base_uri": "https://localhost:8080/"
        },
        "outputId": "01dc50be-7ea9-49a0-f6e3-fa5b6437b052"
      },
      "execution_count": null,
      "outputs": [
        {
          "output_type": "stream",
          "name": "stdout",
          "text": [
            "Horas trabajadas: 8\n",
            "Sueldo Bruto: 348.0\n",
            "ISSS: 10.44\n",
            "AFP: 21.75\n",
            "ISR: 0.0\n",
            "Total Deducciones: 32.19\n",
            "Sueldo Neto: 315.81\n"
          ]
        }
      ]
    },
    {
      "cell_type": "code",
      "source": [
        "def acumulacion_meses(n):\n",
        "    return n * (n + 1) // 2\n",
        "\n",
        "meses = int(input(\"Hasta cuántos meses quieres calcular? \"))\n",
        "\n",
        "print(\"MESES\", \" \" * 10, \"ACUMULACION\")\n",
        "for i in range(1, meses + 1):\n",
        "    print(i, \" \" * (15 - len(str(i))), acumulacion_meses(i))"
      ],
      "metadata": {
        "id": "TcYc2NOB0Nn_",
        "colab": {
          "base_uri": "https://localhost:8080/"
        },
        "outputId": "c909b6b3-9a27-411c-f76a-bf22a750420b"
      },
      "execution_count": null,
      "outputs": [
        {
          "output_type": "stream",
          "name": "stdout",
          "text": [
            "Hasta cuántos meses quieres calcular? 6\n",
            "MESES            ACUMULACION\n",
            "1                1\n",
            "2                3\n",
            "3                6\n",
            "4                10\n",
            "5                15\n",
            "6                21\n"
          ]
        }
      ]
    },
    {
      "cell_type": "code",
      "source": [
        "def caja_a_unidad(cajas):\n",
        "    return cajas * 25\n",
        "\n",
        "def unidad_a_caja(unidades):\n",
        "    cajas_completas = unidades // 25\n",
        "    unidades_restantes = unidades % 25\n",
        "    return f\"{cajas_completas} cajas y {unidades_restantes} unidades\"\n",
        "\n",
        "def saco_a_libra(sacos):\n",
        "    return sacos * 50\n",
        "\n",
        "def libra_a_saco(libras):\n",
        "    sacos_completos = libras // 50\n",
        "    libras_restantes = libras % 50\n",
        "    return f\"{sacos_completos} sacos y {libras_restantes} libras\"\n",
        "\n",
        "def fardo_a_unidad(fardos):\n",
        "    return fardos * 5\n",
        "\n",
        "def unidad_a_fardo(unidades):\n",
        "    fardos_completos = unidades // 5\n",
        "    unidades_restantes = unidades % 5\n",
        "    return f\"{fardos_completos} fardos y {unidades_restantes} unidades\"\n",
        "\n",
        "# Pruebas\n",
        "print(caja_a_unidad(1))         # 25\n",
        "print(unidad_a_caja(80))       # \"3 cajas y 5 unidades\"\n",
        "print(saco_a_libra(1))         # 50\n",
        "print(libra_a_saco(130))       # \"2 sacos y 30 libras\"\n",
        "print(fardo_a_unidad(1))       # 5\n",
        "print(unidad_a_fardo(28))      # \"5 fardos y 3 unidades\"\n"
      ],
      "metadata": {
        "id": "20X0oHPr06si",
        "colab": {
          "base_uri": "https://localhost:8080/"
        },
        "outputId": "0b267f14-fb5f-43c1-df0f-ae6806f34bdc"
      },
      "execution_count": null,
      "outputs": [
        {
          "output_type": "stream",
          "name": "stdout",
          "text": [
            "25\n",
            "3 cajas y 5 unidades\n",
            "50\n",
            "2 sacos y 30 libras\n",
            "5\n",
            "5 fardos y 3 unidades\n"
          ]
        }
      ]
    },
    {
      "cell_type": "code",
      "source": [
        "def caja_a_unidad(cajas):\n",
        "    return cajas * 25\n",
        "\n",
        "def unidad_a_caja(unidades):\n",
        "    cajas_completas = unidades // 25\n",
        "    unidades_restantes = unidades % 25\n",
        "    return f\"{cajas_completas} cajas y {unidades_restantes} unidades\"\n",
        "\n",
        "def saco_a_libra(sacos):\n",
        "    return sacos * 50\n",
        "\n",
        "def libra_a_saco(libras):\n",
        "    sacos_completos = libras // 50\n",
        "    libras_restantes = libras % 50\n",
        "    return f\"{sacos_completos} sacos y {libras_restantes} libras\"\n",
        "\n",
        "def fardo_a_unidad(fardos):\n",
        "    return fardos * 5\n",
        "\n",
        "def unidad_a_fardo(unidades):\n",
        "    fardos_completos = unidades // 5\n",
        "    unidades_restantes = unidades % 5\n",
        "    return f\"{fardos_completos} fardos y {unidades_restantes} unidades\"\n",
        "\n",
        "def main():\n",
        "    while True:\n",
        "        print(\"\\nConversor:\")\n",
        "        print(\"1. Caja a Unidad\")\n",
        "        print(\"2. Unidad a Caja\")\n",
        "        print(\"3. Saco a Libra\")\n",
        "        print(\"4. Libra a Saco\")\n",
        "        print(\"5. Fardo a Unidad\")\n",
        "        print(\"6. Unidad a Fardo\")\n",
        "        print(\"7. Salir\")\n",
        "        opcion = int(input(\"Selecciona una opción: \"))\n",
        "\n",
        "        if opcion == 1:\n",
        "            cajas = float(input(\"Ingresa número de cajas: \"))\n",
        "            print(f\"{cajas} cajas son {caja_a_unidad(cajas)} unidades\")\n",
        "        elif opcion == 2:\n",
        "            unidades = float(input(\"Ingresa número de unidades: \"))\n",
        "            print(unidad_a_caja(unidades))\n",
        "        elif opcion == 3:\n",
        "            sacos = float(input(\"Ingresa número de sacos: \"))\n",
        "            print(f\"{sacos} sacos son {saco_a_libra(sacos)} libras\")\n",
        "        elif opcion == 4:\n",
        "            libras = float(input(\"Ingresa número de libras: \"))\n",
        "            print(libra_a_saco(libras))\n",
        "        elif opcion == 5:\n",
        "            fardos = float(input(\"Ingresa número de fardos: \"))\n",
        "            print(f\"{fardos} fardos son {fardo_a_unidad(fardos)} unidades\")\n",
        "        elif opcion == 6:\n",
        "            unidades = float(input(\"Ingresa número de unidades: \"))\n",
        "            print(unidad_a_fardo(unidades))\n",
        "        elif opcion == 7:\n",
        "            print(\"Hasta luego!\")\n",
        "            break\n",
        "        else:\n",
        "            print(\"Opción no válida. Intenta de nuevo.\")\n",
        "\n",
        "if __name__ == \"__main__\":\n",
        "    main()\n"
      ],
      "metadata": {
        "id": "rgHt2o371OqR",
        "colab": {
          "base_uri": "https://localhost:8080/"
        },
        "outputId": "0696d133-b699-4dc1-88e4-c811bcde6b3a"
      },
      "execution_count": null,
      "outputs": [
        {
          "output_type": "stream",
          "name": "stdout",
          "text": [
            "\n",
            "Conversor:\n",
            "1. Caja a Unidad\n",
            "2. Unidad a Caja\n",
            "3. Saco a Libra\n",
            "4. Libra a Saco\n",
            "5. Fardo a Unidad\n",
            "6. Unidad a Fardo\n",
            "7. Salir\n",
            "Selecciona una opción: 2\n",
            "Ingresa número de unidades: 6\n",
            "0.0 cajas y 6.0 unidades\n",
            "\n",
            "Conversor:\n",
            "1. Caja a Unidad\n",
            "2. Unidad a Caja\n",
            "3. Saco a Libra\n",
            "4. Libra a Saco\n",
            "5. Fardo a Unidad\n",
            "6. Unidad a Fardo\n",
            "7. Salir\n",
            "Selecciona una opción: 4\n",
            "Ingresa número de libras: 2\n",
            "0.0 sacos y 2.0 libras\n",
            "\n",
            "Conversor:\n",
            "1. Caja a Unidad\n",
            "2. Unidad a Caja\n",
            "3. Saco a Libra\n",
            "4. Libra a Saco\n",
            "5. Fardo a Unidad\n",
            "6. Unidad a Fardo\n",
            "7. Salir\n",
            "Selecciona una opción: 7\n",
            "Hasta luego!\n"
          ]
        }
      ]
    },
    {
      "cell_type": "markdown",
      "source": [
        "**Escribir un programa que pida la nota de un examen (0-10), e imprima por pantalla la calificacion en formato: \"Suspenso\" si la nota es menor a 5, \"Aprobado\" si es entre 5 inclusive, y 7 sin incluir, \"Notable\" si esta entre 7 inclusive y 9 sin incluir, \"Sobresaliente\" si esta entre 9 inclusive y 10 sin incluir, y \"Honorable\" si es 10**"
      ],
      "metadata": {
        "id": "itCiWZVl-gvW"
      }
    },
    {
      "cell_type": "code",
      "source": [
        "nota = float(input(\"Ingresa la nota del examen: \"))\n",
        "\n",
        "if nota >= 0 and nota < 5:\n",
        "  print(\"Suspenso\")\n",
        "elif nota >= 5 and nota < 7:\n",
        "  print(\"Aprobado\")\n",
        "elif nota >= 7 and nota < 9:\n",
        "  print(\"Notable\")\n",
        "elif nota >= 9 and nota < 10:\n",
        "  print(\"Sobresaliente\")\n",
        "elif nota == 10:\n",
        "  print(\"Honorable\")\n",
        "else:\n",
        "  print(\"La calificación no puede ser menor que 0 o mayor que 10\")"
      ],
      "metadata": {
        "id": "EZr87T6GNHJ_",
        "colab": {
          "base_uri": "https://localhost:8080/"
        },
        "outputId": "9cab2e5b-cf4d-4ef6-a3ea-c80e9b3df556"
      },
      "execution_count": null,
      "outputs": [
        {
          "output_type": "stream",
          "name": "stdout",
          "text": [
            "Ingresa la nota del examen: 7.7\n",
            "Notable\n"
          ]
        }
      ]
    },
    {
      "cell_type": "code",
      "source": [
        "nota = float(input(\"Nota: \"))\n",
        "if(nota<0 or nota >10):\n",
        "  print(\"Nota invalida\")\n",
        "elif(nota<5):\n",
        "  print(\"SUSPENSO\")\n",
        "elif(nota<7):\n",
        "  print(\"APROBADO\")\n",
        "elif(nota<9):\n",
        "  print(\"NOTABLE\")\n",
        "elif(nota<10):\n",
        "  print(\"SOBRESALIENTE\")\n",
        "else:\n",
        "  print(\"HONORABLE\")"
      ],
      "metadata": {
        "id": "WWV07szXR-hB",
        "colab": {
          "base_uri": "https://localhost:8080/"
        },
        "outputId": "22d85757-7562-440a-ac6c-b7e08900423b"
      },
      "execution_count": null,
      "outputs": [
        {
          "output_type": "stream",
          "name": "stdout",
          "text": [
            "Nota: 4.4\n",
            "SUSPENSO\n"
          ]
        }
      ]
    },
    {
      "cell_type": "markdown",
      "source": [
        "Escriba un programa que muestre la secuencia fibonacci"
      ],
      "metadata": {
        "id": "WV8IEQ-N_KVB"
      }
    },
    {
      "cell_type": "code",
      "source": [
        "limit = int(input(\"Limit: \"))\n",
        "a=0\n",
        "b=1\n",
        "c=0\n",
        "while c<limit:\n",
        "  c=a+b\n",
        "  print(a,\"+\",b,\"=\", c)\n",
        "  b=a\n",
        "  a=c"
      ],
      "metadata": {
        "id": "iLrqprgUZGtf",
        "colab": {
          "base_uri": "https://localhost:8080/"
        },
        "outputId": "b5a30de6-e65c-4225-a97b-a8fefed4aee6"
      },
      "execution_count": null,
      "outputs": [
        {
          "output_type": "stream",
          "name": "stdout",
          "text": [
            "Limit: 43\n",
            "0 + 1 = 1\n",
            "1 + 0 = 1\n",
            "1 + 1 = 2\n",
            "2 + 1 = 3\n",
            "3 + 2 = 5\n",
            "5 + 3 = 8\n",
            "8 + 5 = 13\n",
            "13 + 8 = 21\n",
            "21 + 13 = 34\n",
            "34 + 21 = 55\n"
          ]
        }
      ]
    },
    {
      "cell_type": "markdown",
      "source": [
        "PROGRAMACION ORIENTADA A OBJETOS.\n",
        "\n",
        "* CLASE"
      ],
      "metadata": {
        "id": "JvIOkPSQ_iix"
      }
    },
    {
      "cell_type": "code",
      "source": [
        "class Calculadora:\n",
        "  def sumar(self, num1, num2):\n",
        "    return num1 + num2"
      ],
      "metadata": {
        "id": "g8D8gmhkJbAT"
      },
      "execution_count": null,
      "outputs": []
    },
    {
      "cell_type": "markdown",
      "source": [
        "* Instancia de una clase"
      ],
      "metadata": {
        "id": "aYC_lce7RT86"
      }
    },
    {
      "cell_type": "code",
      "source": [
        "objCalculadora = Calculadora()"
      ],
      "metadata": {
        "id": "l4g4xfHlRWjI"
      },
      "execution_count": null,
      "outputs": []
    },
    {
      "cell_type": "markdown",
      "source": [
        "* Objeto"
      ],
      "metadata": {
        "id": "TWR9MxcGRcUD"
      }
    },
    {
      "cell_type": "code",
      "source": [
        "print (\"La suma de 5 + 3 = \", objCalculadora.sumar(5,3))"
      ],
      "metadata": {
        "colab": {
          "base_uri": "https://localhost:8080/"
        },
        "id": "7zjL92O2Rd2e",
        "outputId": "f279ac96-2d01-4bcc-eb0e-1781708672fb"
      },
      "execution_count": null,
      "outputs": [
        {
          "output_type": "stream",
          "name": "stdout",
          "text": [
            "La suma de 5 + 3 =  8\n"
          ]
        }
      ]
    },
    {
      "cell_type": "markdown",
      "source": [
        "# Ejercicios - Tareas\n"
      ],
      "metadata": {
        "id": "oExwY0tA_4nA"
      }
    },
    {
      "cell_type": "markdown",
      "source": [
        "Calcular sobre el sueldo las deducciones por ley ISSS (3%), AFP (6.25%), ISR (Según tabla) e imprima el total deducciones y sueldo neto."
      ],
      "metadata": {
        "id": "qngiL3AKAE-n"
      }
    },
    {
      "cell_type": "code",
      "source": [
        "def sueldo(numHrs, valorXhr):\n",
        "  sueldo = numHrs*valorXhr*30\n",
        "  if(numHrs>8):\n",
        "    sueldo += (numHrs-8)*valorXhr*2*30\n",
        "  #isss + afp = 3 + 6.25 = 9.25 = 100 - 9.25 = 90.75/100 = 0.09075\n",
        "  #sueldo = sueldo*0.9075\n",
        "  return sueldo"
      ],
      "metadata": {
        "id": "h7LUjIIntRX5"
      },
      "execution_count": null,
      "outputs": []
    },
    {
      "cell_type": "code",
      "source": [
        "tabla_isr = [\n",
        "    [0.01, 472, 0, 0],\n",
        "    [472.01, 895.24, 0.1, 17.67],\n",
        "    [895.25, 2038.1, 0.2, 60.00],\n",
        "    [2038.11, 9999999, 0.3, 288.57]\n",
        "]"
      ],
      "metadata": {
        "id": "vhGaqObQtTs3"
      },
      "execution_count": null,
      "outputs": []
    },
    {
      "cell_type": "code",
      "source": [
        "def calcularIsr(sueldo, sueldoNeto):\n",
        "  impSr = 0\n",
        "  for tramo in tabla_isr:\n",
        "    if sueldo>tramo[0] and sueldo<=tramo[1]:\n",
        "      impSr = (sueldoNeto-tramo[0])*tramo[2] +tramo [3]\n",
        "  return impSr"
      ],
      "metadata": {
        "id": "nFpWwTWutVxE"
      },
      "execution_count": null,
      "outputs": []
    },
    {
      "cell_type": "code",
      "source": [
        "valorXhr = 4\n",
        "#isss = 3%\n",
        "#afp = 6.25%\n",
        "numHrs = float(input(\"Horas trabajadas: \"))\n",
        "s = sueldo(numHrs, valorXhr)\n",
        "isr = calcularIsr(s, s*0.9075)\n",
        "print(\"Sueldo: \", s, \"ISR: \", isr, s*0.9075-isr)"
      ],
      "metadata": {
        "colab": {
          "base_uri": "https://localhost:8080/"
        },
        "id": "PeTsq74NtZ7w",
        "outputId": "9ec91856-3c23-4e76-f81d-5c2e5b5306f4"
      },
      "execution_count": null,
      "outputs": [
        {
          "output_type": "stream",
          "name": "stdout",
          "text": [
            "Horas trabajadas: 7\n",
            "Sueldo:  840.0 ISR:  46.699 715.601\n"
          ]
        }
      ]
    },
    {
      "cell_type": "markdown",
      "source": [
        "Calcular el valor a pagar según el número de metros consumidos de agua potable"
      ],
      "metadata": {
        "id": "bXFVB0r0AQzx"
      }
    },
    {
      "cell_type": "code",
      "source": [
        "def calcular_pago(metros_consumidos):\n",
        "    # Cuota fija\n",
        "    if metros_consumidos <= 18:\n",
        "        return 6\n",
        "\n",
        "    # Si el consumo es entre 19 y 28 metros\n",
        "    elif metros_consumidos <= 28:\n",
        "        exceso_18 = metros_consumidos - 18\n",
        "        valor_exceso = exceso_18 * 0.45\n",
        "        return 6 + valor_exceso\n",
        "\n",
        "    # Si el consumo es de 29 metros en adelante\n",
        "    else:\n",
        "        exceso_28 = metros_consumidos - 28\n",
        "        valor_exceso_28 = exceso_28 * 0.65\n",
        "\n",
        "        exceso_18 = 28 - 18\n",
        "        valor_exceso_18 = exceso_18 * 0.45\n",
        "\n",
        "        return 6 + valor_exceso_18 + valor_exceso_28\n",
        "\n",
        "# Solicitar el número de metros consumidos\n",
        "metros = int(input(\"Introduce el número de metros consumidos: \"))\n",
        "\n",
        "# Calcular el valor a pagar\n",
        "valor_a_pagar = calcular_pago(metros)\n",
        "\n",
        "# Mostrar el resultado\n",
        "print(f\"Valor a pagar: ${valor_a_pagar:.2f}\")"
      ],
      "metadata": {
        "colab": {
          "base_uri": "https://localhost:8080/"
        },
        "id": "Z332u9qrvItB",
        "outputId": "8a80f705-5019-432a-e879-7f10bc199b29"
      },
      "execution_count": null,
      "outputs": [
        {
          "output_type": "stream",
          "name": "stdout",
          "text": [
            "Introduce el número de metros consumidos: 49\n",
            "Valor a pagar: $24.15\n"
          ]
        }
      ]
    },
    {
      "cell_type": "markdown",
      "source": [
        "Desarrolle la tabla de meses acumulados a n meses. Si puede encontrar la formula matemática para evitar ciclos."
      ],
      "metadata": {
        "id": "S1hyCDQAA7aQ"
      }
    },
    {
      "cell_type": "code",
      "source": [
        "def suma_hasta_n(n):\n",
        "    return n * (n + 1) // 2\n",
        "\n",
        "try:\n",
        "    n = int(input(\"Introduce el número de meses para calcular la acumulación: \"))\n",
        "\n",
        "    if n <= 0:\n",
        "        print(\"El número de meses debe ser mayor que cero.\")\n",
        "    else:\n",
        "        acumulacion = suma_hasta_n(n)\n",
        "        print(f\"La acumulación de meses hasta el mes {n} es {acumulacion}.\")\n",
        "\n",
        "except ValueError:\n",
        "    print(\"Por favor, introduce un número válido.\")"
      ],
      "metadata": {
        "colab": {
          "base_uri": "https://localhost:8080/"
        },
        "id": "A2Sbtv5TyG52",
        "outputId": "22dc4f0c-7cba-44dd-fa01-bc9de32967ba"
      },
      "execution_count": null,
      "outputs": [
        {
          "output_type": "stream",
          "name": "stdout",
          "text": [
            "Introduce el número de meses para calcular la acumulación: 12\n",
            "La acumulación de meses hasta el mes 12 es 78.\n"
          ]
        }
      ]
    },
    {
      "cell_type": "code",
      "source": [
        "def suma_hasta_n(n):\n",
        "    return n * (n + 1) // 2\n",
        "\n",
        "try:\n",
        "    n = int(input(\"Introduce el número de meses para calcular la acumulación: \"))\n",
        "\n",
        "    if n <= 0:\n",
        "        print(\"El número de meses debe ser mayor que cero.\")\n",
        "    else:\n",
        "        print(\"MESES ------- ACUMULACION\")\n",
        "\n",
        "        acumulacion = 0\n",
        "        for i in range(1, n + 1):\n",
        "            acumulacion += i\n",
        "            print(f\"{i} ------- {i} + {acumulacion - i} = {acumulacion}\")\n",
        "\n",
        "except ValueError:\n",
        "    print(\"Por favor, introduce un número válido.\")\n"
      ],
      "metadata": {
        "colab": {
          "base_uri": "https://localhost:8080/"
        },
        "id": "RD1eBjTKWmTV",
        "outputId": "2c809048-0c6b-4b7a-fd83-36d4969d4a2f"
      },
      "execution_count": null,
      "outputs": [
        {
          "output_type": "stream",
          "name": "stdout",
          "text": [
            "Introduce el número de meses para calcular la acumulación: 2\n",
            "MESES ------- ACUMULACION\n",
            "1 ------- 1 + 0 = 1\n",
            "2 ------- 2 + 1 = 3\n"
          ]
        }
      ]
    },
    {
      "cell_type": "markdown",
      "source": [
        "Conversores: (40%) (10 ítems como mínimo por cada uno)\n",
        "Monedas (Resuelto en clases)\n",
        "Longitud\n",
        "Masa\n",
        "Almacenamiento\n",
        "Tiempo\n",
        "Volumen\n",
        "Área"
      ],
      "metadata": {
        "id": "9tSAU7yfBMSE"
      }
    },
    {
      "cell_type": "markdown",
      "source": [
        "monedas"
      ],
      "metadata": {
        "id": "_KE8-ulDinga"
      }
    },
    {
      "cell_type": "code",
      "execution_count": null,
      "metadata": {
        "id": "AIlMLL7cilHk",
        "colab": {
          "base_uri": "https://localhost:8080/"
        },
        "outputId": "6994c4a1-2f10-431b-8ad5-e6413b6c3efb"
      },
      "outputs": [
        {
          "output_type": "stream",
          "name": "stdout",
          "text": [
            "Monedas disponibles:\n",
            "usd\n",
            "mxn\n",
            "eur\n",
            "btc\n",
            "Quetzal\n",
            "ColonCosta\n",
            "Yen\n",
            "Arg\n",
            "Sol\n",
            "Rublo\n",
            "Moneda origen: usd\n",
            "Moneda destino: mxn\n",
            "Ingresa la cantidad de usd: 12\n",
            "12.00 usd equivale a 204.12 mxn.\n"
          ]
        }
      ],
      "source": [
        "monedas_con_equivalencias = {\n",
        "    \"usd\": 1,\n",
        "    \"mxn\": 17.01,\n",
        "    \"eur\": 0.91,\n",
        "    \"btc\": 0.000088,\n",
        "    \"Quetzal\": 7.89,\n",
        "    \"ColonCosta\": 536.55,\n",
        "    \"Yen\": 144.91,\n",
        "    \"Arg\": 286.87,\n",
        "    \"Sol\": 3.66,\n",
        "    \"Rublo\": 100\n",
        "\n",
        "}\n",
        "print(\"Monedas disponibles:\")\n",
        "for moneda in monedas_con_equivalencias:\n",
        "    print(moneda)\n",
        "\n",
        "nombre_moneda_origen = \"\"\n",
        "nombre_moneda_destino = \"\"\n",
        "while nombre_moneda_origen not in monedas_con_equivalencias:\n",
        "    nombre_moneda_origen = input(\"Moneda origen: \")\n",
        "\n",
        "while nombre_moneda_destino not in monedas_con_equivalencias:\n",
        "    nombre_moneda_destino = input(\"Moneda destino: \")\n",
        "\n",
        "\n",
        "cantidad = float(input(f\"Ingresa la cantidad de {nombre_moneda_origen}: \"))\n",
        "equivalencia_origen = monedas_con_equivalencias[nombre_moneda_origen]\n",
        "equivalencia_destino = monedas_con_equivalencias[nombre_moneda_destino]\n",
        "equivalencia = (equivalencia_destino/equivalencia_origen)*cantidad\n",
        "print(f\"{cantidad:.2f} {nombre_moneda_origen} equivale a {equivalencia:.2f} {nombre_moneda_destino}.\")"
      ]
    },
    {
      "cell_type": "markdown",
      "source": [
        "Longitud"
      ],
      "metadata": {
        "id": "ftf6uIPBiy1J"
      }
    },
    {
      "cell_type": "code",
      "source": [
        "Longitudes = {\n",
        "    \"Centimetros\": 100,\n",
        "    \"Metros\": 1,\n",
        "    \"Pulgadas\": 39.3701,\n",
        "    \"Yardas\": 1.09361,\n",
        "    \"Pies\": 3.28084,\n",
        "    \"Milimetros\": 1000,\n",
        "    \"Kilometros\": 0.001,\n",
        "    \"Decimetros\": 10\n",
        "}"
      ],
      "metadata": {
        "id": "oCs9T3Bbi0ux"
      },
      "execution_count": null,
      "outputs": []
    },
    {
      "cell_type": "code",
      "source": [
        "print(\"Longitudes disponibles:\")\n",
        "for longitudes in Longitudes:\n",
        "    print(longitudes)\n",
        "\n",
        "nombre_de_longitud = \"\"\n",
        "nombre_longitud_a_convertir = \"\"\n",
        "while nombre_de_longitud not in Longitudes:\n",
        "    nombre_de_longitud = input(\"Longitud 1: \")\n",
        "\n",
        "while nombre_longitud_a_convertir not in Longitudes:\n",
        "    nombre_longitud_a_convertir = input(\"Longitud 2: \")\n",
        "\n",
        "\n",
        "cantidad = float(input(f\"Ingresa la cantidad de {nombre_de_longitud}: \"))\n",
        "equivalencia_origen = Longitudes[nombre_de_longitud]\n",
        "equivalencia_destino = Longitudes[nombre_longitud_a_convertir]\n",
        "equivalencia = (equivalencia_destino/equivalencia_origen)*cantidad\n",
        "print(f\"{cantidad:.2f} {nombre_de_longitud} equivale a {equivalencia:.2f} {nombre_longitud_a_convertir}.\")"
      ],
      "metadata": {
        "id": "31oqsmuti2tx",
        "colab": {
          "base_uri": "https://localhost:8080/"
        },
        "outputId": "75470707-23dc-4b6e-fbef-65636ce69e11"
      },
      "execution_count": null,
      "outputs": [
        {
          "output_type": "stream",
          "name": "stdout",
          "text": [
            "Longitudes disponibles:\n",
            "Centimetros\n",
            "Metros\n",
            "Pulgadas\n",
            "Yardas\n",
            "Pies\n",
            "Milimetros\n",
            "Kilometros\n",
            "Decimetros\n",
            "Longitud 1: Metros\n",
            "Longitud 2: Centimetros\n",
            "Ingresa la cantidad de Metros: 100\n",
            "100.00 Metros equivale a 10000.00 Centimetros.\n"
          ]
        }
      ]
    },
    {
      "cell_type": "markdown",
      "source": [
        "Masas"
      ],
      "metadata": {
        "id": "b7DGGIwii5Cp"
      }
    },
    {
      "cell_type": "code",
      "source": [
        "Masas = {\n",
        "    \"Gramo\": 1,\n",
        "    \"Decigramo\": 0.1,\n",
        "    \"Centigramo\": 0.01,\n",
        "    \"Miligramo\": 0.001,\n",
        "    \"Decagramo\": 10,\n",
        "    \"Hectogramo\": 100,\n",
        "    \"Kilogramo\": 1000\n",
        "}"
      ],
      "metadata": {
        "id": "AL78ovWOi6uL"
      },
      "execution_count": null,
      "outputs": []
    },
    {
      "cell_type": "code",
      "source": [
        "print(\"Masas Disponibles:\")\n",
        "for masas in Masas:\n",
        "    print(masas)\n",
        "\n",
        "nombre_de_masa = \"\"\n",
        "nombre_masa_a_convertir = \"\"\n",
        "while nombre_de_masa not in Masas:\n",
        "    nombre_de_masa = input(\"Masa 1: \")\n",
        "\n",
        "while nombre_masa_a_convertir not in Masas:\n",
        "    nombre_masa_a_convertir = input(\"Masa 2: \")\n",
        "\n",
        "\n",
        "cantidad = float(input(f\"Ingresa la cantidad de {nombre_de_masa}: \"))\n",
        "equivalencia_origen = Masas[nombre_de_masa]\n",
        "equivalencia_destino = Masas[nombre_masa_a_convertir]\n",
        "equivalencia = (equivalencia_destino/equivalencia_origen)*cantidad\n",
        "print(f\"{cantidad:.2f} {nombre_de_masa} equivale a {equivalencia:.2f} {nombre_masa_a_convertir}.\")"
      ],
      "metadata": {
        "id": "r0zeidsxi7gq",
        "colab": {
          "base_uri": "https://localhost:8080/"
        },
        "outputId": "29e0c37b-38c3-4b8a-ce6a-e3a6212bd3f3"
      },
      "execution_count": null,
      "outputs": [
        {
          "output_type": "stream",
          "name": "stdout",
          "text": [
            "Masas Disponibles:\n",
            "Gramo\n",
            "Decigramo\n",
            "Centigramo\n",
            "Miligramo\n",
            "Decagramo\n",
            "Hectogramo\n",
            "Kilogramo\n",
            "Masa 1: Gramo\n",
            "Masa 2: Miligramo\n",
            "Ingresa la cantidad de Gramo: 100\n",
            "100.00 Gramo equivale a 0.10 Miligramo.\n"
          ]
        }
      ]
    },
    {
      "cell_type": "markdown",
      "source": [
        "almacenamiento"
      ],
      "metadata": {
        "id": "B0khPA6ZjCB_"
      }
    },
    {
      "cell_type": "code",
      "source": [
        "Almacenamiento = {\n",
        "    \"B\": 1,\n",
        "    \"Kb\": 0.001,\n",
        "    \"Mb\": 1e-6,\n",
        "    \"Gb\": 1e-9,\n",
        "    \"Tb\": 1e-12,\n",
        "    \"Pb\": 1e-15,\n",
        "    \"Eb\": 1e+18,\n",
        "}"
      ],
      "metadata": {
        "id": "77va-dSSjEZ6"
      },
      "execution_count": null,
      "outputs": []
    },
    {
      "cell_type": "code",
      "source": [
        "print(\"Almacenamiento Disponibles:\")\n",
        "for almacenamiento in Almacenamiento:\n",
        "    print(almacenamiento)\n",
        "\n",
        "nombre_de_alma = \"\"\n",
        "nombre_alma_a_convertir = \"\"\n",
        "while nombre_de_alma not in Almacenamiento:\n",
        "    nombre_de_alma = input(\"almacenamiento 1: \")\n",
        "\n",
        "while nombre_alma_a_convertir not in Almacenamiento:\n",
        "    nombre_alma_a_convertir = input(\"almacenamiento 2: \")\n",
        "\n",
        "\n",
        "cantidad = float(input(f\"Ingresa la cantidad de {nombre_de_alma}: \"))\n",
        "equivalencia_origen = Almacenamiento[nombre_de_alma]\n",
        "equivalencia_destino = Almacenamiento[nombre_alma_a_convertir]\n",
        "equivalencia = (equivalencia_destino/equivalencia_origen)*cantidad\n",
        "print(f\"{cantidad:.2f} {nombre_de_alma} equivale a {equivalencia:.2f} {nombre_alma_a_convertir}.\")"
      ],
      "metadata": {
        "id": "2RYyuAPzjExg",
        "colab": {
          "base_uri": "https://localhost:8080/"
        },
        "outputId": "c482dd0d-f677-4f07-b4de-49d69528123e"
      },
      "execution_count": null,
      "outputs": [
        {
          "output_type": "stream",
          "name": "stdout",
          "text": [
            "Almacenamiento Disponibles:\n",
            "B\n",
            "Kb\n",
            "Mb\n",
            "Gb\n",
            "Tb\n",
            "Pb\n",
            "Eb\n",
            "almacenamiento 1: B\n",
            "almacenamiento 2: Kb\n",
            "Ingresa la cantidad de B: 100\n",
            "100.00 B equivale a 0.10 Kb.\n"
          ]
        }
      ]
    },
    {
      "cell_type": "markdown",
      "source": [
        "tiempo"
      ],
      "metadata": {
        "id": "qT2f6FYYjJPo"
      }
    },
    {
      "cell_type": "code",
      "source": [
        "Tiempo = {\n",
        "    \"min\": 60,\n",
        "    \"hora\": 1,\n",
        "    \"Dia\": 1440,\n",
        "    \"semana\": 10080,\n",
        "    \"mes 30\": 43200,\n",
        "    \"mes 31\": 44640,\n",
        "}"
      ],
      "metadata": {
        "id": "h7JG6W3ujLFY"
      },
      "execution_count": null,
      "outputs": []
    },
    {
      "cell_type": "code",
      "source": [
        "print(\"Tiempo Disponible:\")\n",
        "for tiempo in Tiempo:\n",
        "    print(tiempo)\n",
        "\n",
        "nombre_de_tiempo = \"\"\n",
        "nombre_tiempo_a_convertir = \"\"\n",
        "while nombre_de_tiempo not in Tiempo:\n",
        "    nombre_de_tiempo = input(\"tiempo 1: \")\n",
        "\n",
        "while nombre_tiempo_a_convertir not in Tiempo:\n",
        "    nombre_tiempo_a_convertir = input(\"tiempo 2: \")\n",
        "\n",
        "\n",
        "cantidad = float(input(f\"Ingresa la cantidad de {nombre_de_tiempo}: \"))\n",
        "equivalencia_origen = Tiempo[nombre_de_tiempo]\n",
        "equivalencia_destino = Tiempo[nombre_tiempo_a_convertir]\n",
        "equivalencia = (equivalencia_destino/equivalencia_origen)*cantidad\n",
        "print(f\"{cantidad:.2f} {nombre_de_tiempo} equivale a {equivalencia:.2f} {nombre_tiempo_a_convertir}.\")"
      ],
      "metadata": {
        "id": "V0uiC1QEjLXI",
        "colab": {
          "base_uri": "https://localhost:8080/"
        },
        "outputId": "dcd5f414-4df4-4210-fa61-3b7d33dda846"
      },
      "execution_count": null,
      "outputs": [
        {
          "output_type": "stream",
          "name": "stdout",
          "text": [
            "Tiempo Disponible:\n",
            "min\n",
            "hora\n",
            "Dia\n",
            "semana\n",
            "mes 30\n",
            "mes 31\n",
            "tiempo 1: semana\n",
            "tiempo 2: min\n",
            "Ingresa la cantidad de semana: 100\n",
            "100.00 semana equivale a 0.60 min.\n"
          ]
        }
      ]
    },
    {
      "cell_type": "markdown",
      "source": [
        "volumen"
      ],
      "metadata": {
        "id": "eOYA9f-qjSOC"
      }
    },
    {
      "cell_type": "code",
      "source": [
        "Volumen = {\n",
        "    \"litro\": 1,\n",
        "    \"ml\": 1000,\n",
        "    \"galon\": 0.219969,\n",
        "    \"taza\": 3.51951,\n",
        "    \"pinta\": 1.75975,\n",
        "    \"onza\": 35.1951,\n",
        "    \"cucharada\": 56.3121,\n",
        "    \"cucharadita\": 168.936,\n",
        "    \"PieCub\": 0.0353147,\n",
        "    \"pulgadaCub\": 61.0237,\n",
        "}"
      ],
      "metadata": {
        "id": "Bwp-bD9YjUHg"
      },
      "execution_count": null,
      "outputs": []
    },
    {
      "cell_type": "code",
      "source": [
        "print(\"Volumenes Disponible:\")\n",
        "for volumen in Volumen:\n",
        "    print(volumen)\n",
        "\n",
        "nombre_de_volumen = \"\"\n",
        "nombre_volumen_a_convertir = \"\"\n",
        "while nombre_de_volumen not in Volumen:\n",
        "    nombre_de_volumen = input(\"volumen 1: \")\n",
        "\n",
        "while nombre_volumen_a_convertir not in Volumen:\n",
        "    nombre_volumen_a_convertir = input(\"volumen 2: \")\n",
        "\n",
        "\n",
        "cantidad = float(input(f\"Ingresa la cantidad de {nombre_de_volumen}: \"))\n",
        "equivalencia_origen = Volumen[nombre_de_volumen]\n",
        "equivalencia_destino = Volumen[nombre_volumen_a_convertir]\n",
        "equivalencia = (equivalencia_destino/equivalencia_origen)*cantidad\n",
        "print(f\"{cantidad:.2f} {nombre_de_volumen} equivale a {equivalencia:.2f} {nombre_volumen_a_convertir}.\")"
      ],
      "metadata": {
        "id": "rjwLUyu1jUVb",
        "colab": {
          "base_uri": "https://localhost:8080/"
        },
        "outputId": "0d1aa000-8643-40e4-a95d-b3ed9346c109"
      },
      "execution_count": null,
      "outputs": [
        {
          "output_type": "stream",
          "name": "stdout",
          "text": [
            "Volumenes Disponible:\n",
            "litro\n",
            "ml\n",
            "galon\n",
            "taza\n",
            "pinta\n",
            "onza\n",
            "cucharada\n",
            "cucharadita\n",
            "PieCub\n",
            "pulgadaCub\n",
            "volumen 1: litro\n",
            "volumen 2: pulgadaCub\n",
            "Ingresa la cantidad de litro: 2000\n",
            "2000.00 litro equivale a 122047.40 pulgadaCub.\n"
          ]
        }
      ]
    },
    {
      "cell_type": "markdown",
      "source": [
        "area"
      ],
      "metadata": {
        "id": "-MfTpshVjZQh"
      }
    },
    {
      "cell_type": "code",
      "source": [
        "Area = {\n",
        "    \"m2\": 1,\n",
        "    \"km2\": 1e-6,\n",
        "    \"milla2\": 3.861e-7,\n",
        "    \"yarda2\": 1.19599,\n",
        "    \"pie2\": 10.7639,\n",
        "    \"pulg2\": 1550,\n",
        "    \"hec\": 1e-4,\n",
        "    \"acre\": 0.000247105,\n",
        "}"
      ],
      "metadata": {
        "id": "maKgZf1cjaRK"
      },
      "execution_count": null,
      "outputs": []
    },
    {
      "cell_type": "code",
      "source": [
        "print(\"Areas Disponible:\")\n",
        "for area in Area:\n",
        "    print(area)\n",
        "\n",
        "nombre_de_area = \"\"\n",
        "nombre_area_a_convertir = \"\"\n",
        "while nombre_de_area not in Area:\n",
        "    nombre_de_area = input(\"area 1: \")\n",
        "\n",
        "while nombre_area_a_convertir not in Area:\n",
        "    nombre_area_a_convertir = input(\"area 2: \")\n",
        "\n",
        "\n",
        "cantidad = float(input(f\"Ingresa la cantidad de {nombre_de_area}: \"))\n",
        "equivalencia_origen = Area[nombre_de_area]\n",
        "equivalencia_destino = Area[nombre_area_a_convertir]\n",
        "equivalencia = (equivalencia_destino/equivalencia_origen)*cantidad\n",
        "print(f\"{cantidad:.2f} {nombre_de_area} equivale a {equivalencia:.2f} {nombre_area_a_convertir}.\")"
      ],
      "metadata": {
        "id": "xWMyt1KZjahi",
        "colab": {
          "base_uri": "https://localhost:8080/"
        },
        "outputId": "de8d8fad-4daa-4b5d-c4f5-388277c3494c"
      },
      "execution_count": null,
      "outputs": [
        {
          "output_type": "stream",
          "name": "stdout",
          "text": [
            "Areas Disponible:\n",
            "m2\n",
            "km2\n",
            "milla2\n",
            "yarda2\n",
            "pie2\n",
            "pulg2\n",
            "hec\n",
            "acre\n",
            "area 1: m2\n",
            "area 2: km2\n",
            "Ingresa la cantidad de m2: 20000\n",
            "20000.00 m2 equivale a 0.02 km2.\n"
          ]
        }
      ]
    },
    {
      "cell_type": "markdown",
      "source": [
        "Realizar un conversor propio, donde especifique el valor de conversión:\n",
        "1 caja -> 25 unidad. Viceversa 80 unidades – 3/5 -> cajas/unidades\n",
        "1 saco -> 50 libras. Viceversa 130 libras – 2/30 -> sacos/libras\n",
        "1 fardo -> 5 unidades. Viceversa 28 unidades – 5/3 -> fardos/unidades"
      ],
      "metadata": {
        "id": "qBrYGc0hBRpZ"
      }
    },
    {
      "cell_type": "code",
      "source": [
        "def convertir_cajas(unidades, a_cajas=True):\n",
        "    if a_cajas:\n",
        "        return unidades / 25, unidades % 25\n",
        "    else:\n",
        "        return unidades * 25\n",
        "\n",
        "def convertir_sacos(libras, a_sacos=True):\n",
        "    if a_sacos:\n",
        "        return libras / 50, libras % 50\n",
        "    else:\n",
        "        return libras * 50\n",
        "\n",
        "def convertir_fardos(unidades, a_fardos=True):\n",
        "    if a_fardos:\n",
        "        return unidades / 5, unidades % 5\n",
        "    else:\n",
        "        return unidades * 5\n",
        "\n",
        "while True:\n",
        "    print(\"Conversor de Unidades\")\n",
        "    print(\"1. Cajas a unidades\")\n",
        "    print(\"2. Unidades a cajas\")\n",
        "    print(\"3. Sacos a libras\")\n",
        "    print(\"4. Libras a sacos\")\n",
        "    print(\"5. Fardos a unidades\")\n",
        "    print(\"6. Unidades a fardos\")\n",
        "\n",
        "    opcion = input(\"Seleccione una opción: \")\n",
        "\n",
        "    cantidad = float(input(\"Ingrese la cantidad para convertir: \"))\n",
        "\n",
        "    if opcion == '1':\n",
        "        print(f\"{cantidad} cajas son {convertir_cajas(cantidad, False)} unidades.\")\n",
        "    elif opcion == '2':\n",
        "        cajas, unidades = convertir_cajas(cantidad)\n",
        "        print(f\"{cantidad} unidades son {int(cajas)} cajas y {int(unidades)} unidades.\")\n",
        "    elif opcion == '3':\n",
        "        print(f\"{cantidad} sacos son {convertir_sacos(cantidad, False)} libras.\")\n",
        "    elif opcion == '4':\n",
        "        sacos, libras = convertir_sacos(cantidad)\n",
        "        print(f\"{cantidad} libras son {int(sacos)} sacos y {int(libras)} libras.\")\n",
        "    elif opcion == '5':\n",
        "        print(f\"{cantidad} fardos son {convertir_fardos(cantidad, False)} unidades.\")\n",
        "    elif opcion == '6':\n",
        "        fardos, unidades = convertir_fardos(cantidad)\n",
        "        print(f\"{cantidad} unidades son {int(fardos)} fardos y {int(unidades)} unidades.\")\n",
        "    else:\n",
        "        print(\"Opción no válida.\")\n",
        "\n",
        "    continuar = input(\"¿Desea realizar otra conversión? (s/n): \")\n",
        "    if continuar.lower() != 's':\n",
        "        break"
      ],
      "metadata": {
        "id": "YQVFpBx6z0gn",
        "colab": {
          "base_uri": "https://localhost:8080/"
        },
        "outputId": "a27e0ce5-5f0b-4876-b57f-4764c04131b5"
      },
      "execution_count": null,
      "outputs": [
        {
          "name": "stdout",
          "output_type": "stream",
          "text": [
            "Conversor de Unidades\n",
            "1. Cajas a unidades\n",
            "2. Unidades a cajas\n",
            "3. Sacos a libras\n",
            "4. Libras a sacos\n",
            "5. Fardos a unidades\n",
            "6. Unidades a fardos\n",
            "Seleccione una opción: 3\n",
            "Ingrese la cantidad para convertir: 20\n",
            "20.0 sacos son 1000.0 libras.\n",
            "¿Desea realizar otra conversión? (s/n): n\n"
          ]
        }
      ]
    },
    {
      "cell_type": "markdown",
      "source": [
        "Escriba un programa que encuentre la media aritmetica de una serie de numeros introducidos por el usuario"
      ],
      "metadata": {
        "id": "Ti4rLGB-Bupy"
      }
    },
    {
      "cell_type": "code",
      "source": [
        "numeros = int(input(\"¿Cuántos números deseas ingresar?: \"))\n",
        "suma = 0\n",
        "\n",
        "for i in range(numeros):\n",
        "  numero = float(input(f\"Ingrese el número {i+1}: \"))\n",
        "  suma += numero\n",
        "\n",
        "media = suma / numeros\n",
        "\n",
        "print(f\"La media aritmética de los {numeros} números es: {media}\")"
      ],
      "metadata": {
        "id": "iMHwewVfo5uI",
        "colab": {
          "base_uri": "https://localhost:8080/"
        },
        "outputId": "408a2b66-bb29-4052-8a25-ccf2d562e186"
      },
      "execution_count": null,
      "outputs": [
        {
          "output_type": "stream",
          "name": "stdout",
          "text": [
            "¿Cuántos números deseas ingresar?: 3\n",
            "Ingrese el número 1: 4\n",
            "Ingrese el número 2: 22\n",
            "Ingrese el número 3: 1\n",
            "La media aritmética de los 3 números es: 9.0\n"
          ]
        }
      ]
    },
    {
      "cell_type": "markdown",
      "source": [
        "Escriba un programa que determine si una palabra introducida por el usuario es palindrome o no, ejm. de palabras palindrome: Ana, oso, oro, etc."
      ],
      "metadata": {
        "id": "vxIT9HdRB_vY"
      }
    },
    {
      "cell_type": "code",
      "source": [
        "palabra = input(\"Introduce una palabra: \")\n",
        "palabra = palabra.lower()\n",
        "\n",
        "palabra_reversa = palabra[::-1]\n",
        "\n",
        "if palabra == palabra_reversa:\n",
        "    print(f\"'{palabra}' es un palíndromo.\")\n",
        "else:\n",
        "    print(f\"'{palabra}' no es un palíndromo.\")"
      ],
      "metadata": {
        "colab": {
          "base_uri": "https://localhost:8080/"
        },
        "id": "hlnNPm_CqaIA",
        "outputId": "158996b8-8f68-496f-88ac-8beb8a50c78b"
      },
      "execution_count": null,
      "outputs": [
        {
          "output_type": "stream",
          "name": "stdout",
          "text": [
            "Introduce una palabra: sagas\n",
            "'sagas' es un palíndromo.\n"
          ]
        }
      ]
    },
    {
      "cell_type": "markdown",
      "source": [
        "Escriba un programa que convierta un numero instroducido por el usuario a su equivalente en numeros romanos. Ejm: 5 -> V"
      ],
      "metadata": {
        "id": "Lcgms9LKCfEv"
      }
    },
    {
      "cell_type": "code",
      "source": [
        "def romano(n):\n",
        "    mapa = {\n",
        "        1: \"I\",\n",
        "        4: \"IV\",\n",
        "        5: \"V\",\n",
        "        9: \"IX\",\n",
        "        10: \"X\",\n",
        "        40: \"XL\",\n",
        "        50: \"L\",\n",
        "        90: \"XC\",\n",
        "        100: \"C\",\n",
        "        400: \"CD\",\n",
        "        500: \"D\",\n",
        "        900: \"CM\",\n",
        "        1000: \"M\"\n",
        "    }\n",
        "\n",
        "    resultado = []\n",
        "\n",
        "    claves = sorted(mapa.keys(), reverse=True)\n",
        "\n",
        "    for clave in claves:\n",
        "        while n >= clave:\n",
        "            resultado.append(mapa[clave])\n",
        "            n -= clave\n",
        "\n",
        "    return \"\".join(resultado)\n",
        "\n",
        "try:\n",
        "    numero = int(input(\"Introduce un número para convertirlo a números romanos: \"))\n",
        "    if numero <= 0 or numero > 5000:\n",
        "        print(\"El número debe estar en el rango de 1 a 5000.\")\n",
        "    else:\n",
        "        romano = romano(numero)\n",
        "        print(f\"El número {numero} en números romanos es {romano}\")\n",
        "except ValueError:\n",
        "    print(\"Por favor, introduce un número válido.\")"
      ],
      "metadata": {
        "colab": {
          "base_uri": "https://localhost:8080/"
        },
        "id": "NGijJUwtraGm",
        "outputId": "300584ac-2ac6-4e96-bb72-d854ea9f2f82"
      },
      "execution_count": null,
      "outputs": [
        {
          "output_type": "stream",
          "name": "stdout",
          "text": [
            "Introduce un número para convertirlo a números romanos: 5\n",
            "El número 5 en números romanos es V\n"
          ]
        }
      ]
    },
    {
      "cell_type": "markdown",
      "source": [
        "  Jose Elias Reyes Saravia\n",
        "  USTS167822\n",
        "  Parcial 1\n",
        "  Conversor de Area (suoerficie)"
      ],
      "metadata": {
        "id": "H5HahSGHT8F4"
      }
    },
    {
      "cell_type": "code",
      "source": [
        " Area = {\n",
        "    \"pie2\": 10.7639,\n",
        "    \"vara2\": 0.688896,\n",
        "    \"yarda2\": 1.19599,\n",
        "    \"metro2\": 1,\n",
        "    \"tareas\": 628.86,\n",
        "    \"manzanas\": 7000,\n",
        "    \"hectarea\": 1e-4,\n",
        "\n",
        " }\n",
        "\n"
      ],
      "metadata": {
        "id": "sb2k_VDiT7FC"
      },
      "execution_count": null,
      "outputs": []
    },
    {
      "cell_type": "code",
      "source": [
        "print(\"Areas:\")\n",
        "for area in Area:\n",
        "    print(area)\n",
        "\n",
        "nombre_de_area = \"\"\n",
        "nombre_area_a_convertir = \"\"\n",
        "while nombre_de_area not in Area:\n",
        "    nombre_de_area = input(\"area 1: \")\n",
        "\n",
        "while nombre_area_a_convertir not in Area:\n",
        "    nombre_area_a_convertir = input(\"area 2: \")\n",
        "\n",
        "\n",
        "cantidad = float(input(f\"Ingresa la cantidad de {nombre_de_area}: \"))\n",
        "equivalencia_origen = Area[nombre_de_area]\n",
        "equivalencia_destino = Area[nombre_area_a_convertir]\n",
        "equivalencia = (equivalencia_destino/equivalencia_origen)*cantidad\n",
        "print(f\"{cantidad:.2f} {nombre_de_area} equivale a {equivalencia:.2f} {nombre_area_a_convertir}.\")"
      ],
      "metadata": {
        "colab": {
          "base_uri": "https://localhost:8080/"
        },
        "outputId": "1cbd67df-cdd1-4290-d4a9-c3a4bc220d8f",
        "id": "K8MkgOI1ZLV-"
      },
      "execution_count": null,
      "outputs": [
        {
          "output_type": "stream",
          "name": "stdout",
          "text": [
            "Areas:\n",
            "pie2\n",
            "vara2\n",
            "yarda2\n",
            "metro2\n",
            "tareas\n",
            "manzanas\n",
            "hectarea\n",
            "area 1: metro2\n",
            "area 2: manzanas\n",
            "Ingresa la cantidad de metro2: 1\n",
            "1.00 metro2 equivale a 7000.00 manzanas.\n"
          ]
        }
      ]
    }
  ]
}